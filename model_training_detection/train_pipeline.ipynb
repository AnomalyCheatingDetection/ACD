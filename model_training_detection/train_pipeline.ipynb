{
 "cells": [
  {
   "cell_type": "markdown",
   "metadata": {},
   "source": [
    "# Train pipeline\n",
    "\n",
    "1. Use different data timewindow\n",
    "\n",
    "2. Run it in different model"
   ]
  },
  {
   "cell_type": "markdown",
   "metadata": {},
   "source": [
    "## Imports"
   ]
  },
  {
   "cell_type": "code",
   "execution_count": 1,
   "metadata": {},
   "outputs": [],
   "source": [
    "import pandas as pd\n",
    "import numpy as np\n",
    "import seaborn as sns\n",
    "from datetime import datetime\n",
    "import matplotlib.pyplot as plt\n",
    "\n",
    "from sklearn import tree, preprocessing\n",
    "from sklearn.pipeline import make_pipeline\n",
    "from sklearn.svm import SVC\n",
    "from sklearn.neighbors import KNeighborsClassifier\n",
    "from sklearn.model_selection import train_test_split\n",
    "\n",
    "from tqdm import tqdm\n",
    "\n",
    "from sklearn.metrics import \\\n",
    "    classification_report, \\\n",
    "    plot_confusion_matrix, \\\n",
    "    confusion_matrix, \\\n",
    "    roc_curve, \\\n",
    "    auc, \\\n",
    "    f1_score, accuracy_score, recall_score"
   ]
  },
  {
   "cell_type": "markdown",
   "metadata": {},
   "source": [
    "## Define Functions and Consts"
   ]
  },
  {
   "cell_type": "code",
   "execution_count": 2,
   "metadata": {},
   "outputs": [],
   "source": [
    "timewindows = [1, 5, 10, 15, 30, 60]\n"
   ]
  },
  {
   "cell_type": "code",
   "execution_count": 3,
   "metadata": {},
   "outputs": [],
   "source": [
    "def load_data(path) -> pd.DataFrame:\n",
    "    df = pd.read_csv(path)\n",
    "    return df\n",
    "\n",
    "def plot_ROC(y_test, y_pred, plt_config):    \n",
    "        fpr, tpr, threshold = roc_curve(y_test, y_pred)\n",
    "        roc_auc = auc(fpr, tpr)\n",
    "\n",
    "        plt.figure(figsize=plt_config['figsize'])\n",
    "        plt.title('ROC')\n",
    "        plt.plot(fpr, tpr, 'b', label='ROC-AUC = %0.2f' % roc_auc)\n",
    "        plt.plot([0,1], [0,1], 'y--', label='baseline')\n",
    "\n",
    "        plt.ylabel('True Positive Rate')\n",
    "        plt.xlabel('False Positive Rate')\n",
    "        plt.legend(loc='best')\n",
    "        plt.show()\n",
    "\n",
    "def decisionTreeTrain(X_train, y_train, max_depth):\n",
    "    clf = tree.DecisionTreeClassifier(max_depth=max_depth)\n",
    "    clf.fit(X_train, y_train)\n",
    "    return clf\n",
    "\n",
    "def scalar_normalize(X_train, X_test):\n",
    "    min_max_scalar = preprocessing.MinMaxScaler()\n",
    "    X_train_minmax = min_max_scalar.fit_transform(X_train)\n",
    "    X_test_minmax = min_max_scalar.transform(X_test)\n",
    "    X_train_scaled = preprocessing.scale(X_train_minmax)\n",
    "    X_test_scaled = preprocessing.scale(X_test_minmax)\n",
    "    X_train_normalized = preprocessing.normalize(X_train_scaled, norm='l2')\n",
    "    X_test_normalized = preprocessing.normalize(X_test_scaled, norm='l2')\n",
    "    return X_train_normalized, X_test_normalized\n"
   ]
  },
  {
   "cell_type": "code",
   "execution_count": 4,
   "metadata": {},
   "outputs": [],
   "source": [
    "def load_windows_data():\n",
    "    dfs = []\n",
    "    for t in tqdm(timewindows, desc=\"Loading Data\"):\n",
    "        path = \"../csv_data/user_1_timewindow\"+str(t)+\".csv\"\n",
    "        dfs.append(load_data(path))\n",
    "    return dfs\n",
    "\n",
    "def preprocess_pipeline(dfs):\n",
    "    ret = []\n",
    "    for df in tqdm(dfs, desc=\"Preprocessing\"):\n",
    "        df = df.fillna(-10000)\n",
    "        # df = df.replace((np.inf, -np.inf, np.nan), 0).reset_index(drop=True)\n",
    "        df = df.replace((np.inf, -np.inf), 0).reset_index(drop=True)\n",
    "        ret.append(df)\n",
    "    return ret\n",
    "\n",
    "def train_test_split_pipeline(dfs, test_size=0.3):\n",
    "    ret = []\n",
    "    for df in tqdm(dfs, desc=\"Spliting\"):\n",
    "        data_X = df.drop(columns = ['timestamp', 'class'])\n",
    "        data_y = df['class']\n",
    "        binary_data_y = data_y.copy()\n",
    "        binary_data_y[binary_data_y>0] = 1\n",
    "        X_train, X_test, y_train, y_test = train_test_split(data_X, binary_data_y, test_size=test_size)\n",
    "        ret.append([X_train, X_test, y_train, y_test])\n",
    "    return ret\n",
    "\n",
    "def predict_scores(y_true, y_pred):\n",
    "    accuracy, recall, f1_s = accuracy_score(y_true, y_pred), recall_score(y_true, y_pred), f1_score(y_true, y_pred)\n",
    "    return accuracy, recall, f1_s\n",
    "\n",
    "def plot_timewindow_figure(scores, method):\n",
    "    [accuracy_scores, recall_scores, f1_scores] = scores\n",
    "    x = timewindows\n",
    "\n",
    "    plt.plot(x, accuracy_scores, color='r', label='Accuracy')\n",
    "    plt.plot(x, recall_scores, color='g', label='Recall')\n",
    "    plt.plot(x, f1_scores, color='b', label='F1 Score')\n",
    "    plt.xlabel('Time Window')\n",
    "    plt.ylabel('Score')\n",
    "    plt.title(method)\n",
    "    plt.legend(loc=\"best\")\n",
    "    plt.show()\n",
    "\n",
    "def prediction_pipeline(data, models):\n",
    "    clfs = models\n",
    "    accuracy_scores = []\n",
    "    recall_scores = []\n",
    "    f1_scores = []\n",
    "    for index, [X_train, X_test, y_train, y_test] in tqdm(enumerate(data), desc=\"Evaluating\"):\n",
    "        clf = clfs[index]\n",
    "        y_hat = clf.predict(X_test)\n",
    "        accuracy, recall, f1_s = predict_scores(y_test, y_hat)\n",
    "        accuracy_scores.append(accuracy)\n",
    "        recall_scores.append(recall)\n",
    "        f1_scores.append(f1_s)\n",
    "    return accuracy_scores, recall_scores, f1_scores\n",
    "\n",
    "def plot_pipeline(scores, method):\n",
    "    plot_timewindow_figure(scores, method)\n",
    "\n",
    "def data_preparation_pipeline():\n",
    "    dfs = load_windows_data()\n",
    "    dfs = preprocess_pipeline(dfs)\n",
    "    data = train_test_split_pipeline(dfs, test_size=0.3)\n",
    "    return data\n",
    "\n"
   ]
  },
  {
   "cell_type": "code",
   "execution_count": 5,
   "metadata": {},
   "outputs": [],
   "source": [
    "def decision_tree_pipeLine():\n",
    "    data = data_preparation_pipeline()\n",
    "    clfs = []\n",
    "    # training\n",
    "    for [X_train, X_test, y_train, y_test] in tqdm(data, desc=\"Training\"):\n",
    "        clf = decisionTreeTrain(X_train, y_train, 4)\n",
    "        clfs.append(clf)\n",
    "    # testing\n",
    "    accuracy_scores, recall_scores, f1_scores = prediction_pipeline(data, clfs)\n",
    "    plot_pipeline([accuracy_scores, recall_scores, f1_scores], method=\"Decision Tree\")"
   ]
  },
  {
   "cell_type": "code",
   "execution_count": 6,
   "metadata": {},
   "outputs": [
    {
     "name": "stderr",
     "output_type": "stream",
     "text": [
      "Loading Data: 100%|██████████| 6/6 [00:00<00:00, 38.81it/s]\n",
      "Preprocessing: 100%|██████████| 6/6 [00:00<00:00, 202.61it/s]\n",
      "Spliting: 100%|██████████| 6/6 [00:00<00:00, 205.43it/s]\n",
      "Training: 100%|██████████| 6/6 [00:00<00:00, 46.11it/s]\n",
      "Evaluating: 6it [00:00, 200.35it/s]\n"
     ]
    },
    {
     "data": {
      "image/png": "[encoded data removed]",
      "text/plain": [
       "<Figure size 432x288 with 1 Axes>"
      ]
     },
     "metadata": {
      "needs_background": "light"
     },
     "output_type": "display_data"
    }
   ],
   "source": [
    "max_depths = [4]\n",
    "decision_tree_pipeLine()"
   ]
  }
 ],
 "metadata": {
  "interpreter": {
   "hash": "6d0430abbed589119bb7878564fa7798420196d01d1254d0f6d6bd0187648272"
  },
  "kernelspec": {
   "display_name": "Python 3.9.7 ('base')",
   "language": "python",
   "name": "python3"
  },
  "language_info": {
   "codemirror_mode": {
    "name": "ipython",
    "version": 3
   },
   "file_extension": ".py",
   "mimetype": "text/x-python",
   "name": "python",
   "nbconvert_exporter": "python",
   "pygments_lexer": "ipython3",
   "version": "3.9.7"
  },
  "orig_nbformat": 4
 },
 "nbformat": 4,
 "nbformat_minor": 2
}
