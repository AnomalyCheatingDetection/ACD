{
 "cells": [
  {
   "cell_type": "markdown",
   "metadata": {},
   "source": [
    "# Data Training and Testing"
   ]
  },
  {
   "cell_type": "code",
   "execution_count": 26,
   "metadata": {},
   "outputs": [],
   "source": [
    "import pandas as pd\n",
    "from datetime import datetime\n",
    "import matplotlib.pyplot as plt\n",
    "\n",
    "from sklearn.neighbors import KNeighborsClassifier\n",
    "from sklearn.model_selection import train_test_split\n",
    "\n",
    "from tqdm import tqdm\n",
    "\n",
    "from sklearn.metrics import \\\n",
    "    classification_report, \\\n",
    "    plot_confusion_matrix, \\\n",
    "    confusion_matrix, \\\n",
    "    roc_curve, \\\n",
    "    auc"
   ]
  },
  {
   "cell_type": "code",
   "execution_count": 27,
   "metadata": {},
   "outputs": [],
   "source": [
    "def load_data(path) -> pd.DataFrame:\n",
    "    df = pd.read_csv(path)\n",
    "    return df"
   ]
  },
  {
   "cell_type": "code",
   "execution_count": 4,
   "metadata": {},
   "outputs": [],
   "source": [
    "df = load_data('../csv_data/user_1.csv')"
   ]
  },
  {
   "cell_type": "code",
   "execution_count": 5,
   "metadata": {},
   "outputs": [
    {
     "data": {
      "text/html": [
       "<div>\n",
       "<style scoped>\n",
       "    .dataframe tbody tr th:only-of-type {\n",
       "        vertical-align: middle;\n",
       "    }\n",
       "\n",
       "    .dataframe tbody tr th {\n",
       "        vertical-align: top;\n",
       "    }\n",
       "\n",
       "    .dataframe thead th {\n",
       "        text-align: right;\n",
       "    }\n",
       "</style>\n",
       "<table border=\"1\" class=\"dataframe\">\n",
       "  <thead>\n",
       "    <tr style=\"text-align: right;\">\n",
       "      <th></th>\n",
       "      <th>Unnamed: 0</th>\n",
       "      <th>timestamp</th>\n",
       "      <th>dist_s</th>\n",
       "      <th>angle_s</th>\n",
       "      <th>mean_dist</th>\n",
       "      <th>average_mouse_speed</th>\n",
       "      <th>useful</th>\n",
       "      <th>useless</th>\n",
       "      <th>class</th>\n",
       "    </tr>\n",
       "  </thead>\n",
       "  <tbody>\n",
       "    <tr>\n",
       "      <th>0</th>\n",
       "      <td>0</td>\n",
       "      <td>2022-04-15 19:28:49</td>\n",
       "      <td>263.674</td>\n",
       "      <td>69.3421</td>\n",
       "      <td>5316.49</td>\n",
       "      <td>0</td>\n",
       "      <td>0</td>\n",
       "      <td>0</td>\n",
       "      <td>2</td>\n",
       "    </tr>\n",
       "    <tr>\n",
       "      <th>1</th>\n",
       "      <td>1</td>\n",
       "      <td>2022-04-15 19:28:52</td>\n",
       "      <td>521.615</td>\n",
       "      <td>0.0000</td>\n",
       "      <td>5034.37</td>\n",
       "      <td>0</td>\n",
       "      <td>0</td>\n",
       "      <td>1</td>\n",
       "      <td>2</td>\n",
       "    </tr>\n",
       "    <tr>\n",
       "      <th>2</th>\n",
       "      <td>2</td>\n",
       "      <td>2022-04-15 19:28:53</td>\n",
       "      <td>1155.380</td>\n",
       "      <td>0.0000</td>\n",
       "      <td>5892.10</td>\n",
       "      <td>0</td>\n",
       "      <td>0</td>\n",
       "      <td>2</td>\n",
       "      <td>2</td>\n",
       "    </tr>\n",
       "    <tr>\n",
       "      <th>3</th>\n",
       "      <td>3</td>\n",
       "      <td>2022-04-15 19:28:54</td>\n",
       "      <td>1329.600</td>\n",
       "      <td>0.0000</td>\n",
       "      <td>6705.91</td>\n",
       "      <td>0</td>\n",
       "      <td>0</td>\n",
       "      <td>0</td>\n",
       "      <td>2</td>\n",
       "    </tr>\n",
       "    <tr>\n",
       "      <th>4</th>\n",
       "      <td>4</td>\n",
       "      <td>2022-04-15 19:28:55</td>\n",
       "      <td>1369.910</td>\n",
       "      <td>70.4558</td>\n",
       "      <td>6572.16</td>\n",
       "      <td>0</td>\n",
       "      <td>0</td>\n",
       "      <td>1</td>\n",
       "      <td>2</td>\n",
       "    </tr>\n",
       "    <tr>\n",
       "      <th>...</th>\n",
       "      <td>...</td>\n",
       "      <td>...</td>\n",
       "      <td>...</td>\n",
       "      <td>...</td>\n",
       "      <td>...</td>\n",
       "      <td>...</td>\n",
       "      <td>...</td>\n",
       "      <td>...</td>\n",
       "      <td>...</td>\n",
       "    </tr>\n",
       "    <tr>\n",
       "      <th>9727</th>\n",
       "      <td>9727</td>\n",
       "      <td>2022-04-15 22:27:02</td>\n",
       "      <td>0.000</td>\n",
       "      <td>0.0000</td>\n",
       "      <td>NaN</td>\n",
       "      <td>31</td>\n",
       "      <td>0</td>\n",
       "      <td>4</td>\n",
       "      <td>2</td>\n",
       "    </tr>\n",
       "    <tr>\n",
       "      <th>9728</th>\n",
       "      <td>9728</td>\n",
       "      <td>2022-04-15 22:27:03</td>\n",
       "      <td>0.000</td>\n",
       "      <td>0.0000</td>\n",
       "      <td>NaN</td>\n",
       "      <td>10</td>\n",
       "      <td>0</td>\n",
       "      <td>2</td>\n",
       "      <td>2</td>\n",
       "    </tr>\n",
       "    <tr>\n",
       "      <th>9729</th>\n",
       "      <td>9729</td>\n",
       "      <td>2022-04-15 22:27:04</td>\n",
       "      <td>0.000</td>\n",
       "      <td>0.0000</td>\n",
       "      <td>NaN</td>\n",
       "      <td>0</td>\n",
       "      <td>0</td>\n",
       "      <td>0</td>\n",
       "      <td>2</td>\n",
       "    </tr>\n",
       "    <tr>\n",
       "      <th>9730</th>\n",
       "      <td>9730</td>\n",
       "      <td>2022-04-15 22:27:05</td>\n",
       "      <td>0.000</td>\n",
       "      <td>0.0000</td>\n",
       "      <td>NaN</td>\n",
       "      <td>0</td>\n",
       "      <td>0</td>\n",
       "      <td>0</td>\n",
       "      <td>2</td>\n",
       "    </tr>\n",
       "    <tr>\n",
       "      <th>9731</th>\n",
       "      <td>9731</td>\n",
       "      <td>2022-04-15 22:27:06</td>\n",
       "      <td>0.000</td>\n",
       "      <td>0.0000</td>\n",
       "      <td>NaN</td>\n",
       "      <td>0</td>\n",
       "      <td>0</td>\n",
       "      <td>0</td>\n",
       "      <td>2</td>\n",
       "    </tr>\n",
       "  </tbody>\n",
       "</table>\n",
       "<p>9732 rows × 9 columns</p>\n",
       "</div>"
      ],
      "text/plain": [
       "      Unnamed: 0            timestamp    dist_s  angle_s  mean_dist  \\\n",
       "0              0  2022-04-15 19:28:49   263.674  69.3421    5316.49   \n",
       "1              1  2022-04-15 19:28:52   521.615   0.0000    5034.37   \n",
       "2              2  2022-04-15 19:28:53  1155.380   0.0000    5892.10   \n",
       "3              3  2022-04-15 19:28:54  1329.600   0.0000    6705.91   \n",
       "4              4  2022-04-15 19:28:55  1369.910  70.4558    6572.16   \n",
       "...          ...                  ...       ...      ...        ...   \n",
       "9727        9727  2022-04-15 22:27:02     0.000   0.0000        NaN   \n",
       "9728        9728  2022-04-15 22:27:03     0.000   0.0000        NaN   \n",
       "9729        9729  2022-04-15 22:27:04     0.000   0.0000        NaN   \n",
       "9730        9730  2022-04-15 22:27:05     0.000   0.0000        NaN   \n",
       "9731        9731  2022-04-15 22:27:06     0.000   0.0000        NaN   \n",
       "\n",
       "      average_mouse_speed  useful  useless  class  \n",
       "0                       0       0        0      2  \n",
       "1                       0       0        1      2  \n",
       "2                       0       0        2      2  \n",
       "3                       0       0        0      2  \n",
       "4                       0       0        1      2  \n",
       "...                   ...     ...      ...    ...  \n",
       "9727                   31       0        4      2  \n",
       "9728                   10       0        2      2  \n",
       "9729                    0       0        0      2  \n",
       "9730                    0       0        0      2  \n",
       "9731                    0       0        0      2  \n",
       "\n",
       "[9732 rows x 9 columns]"
      ]
     },
     "execution_count": 5,
     "metadata": {},
     "output_type": "execute_result"
    }
   ],
   "source": [
    "df"
   ]
  },
  {
   "cell_type": "code",
   "execution_count": 21,
   "metadata": {},
   "outputs": [],
   "source": [
    "df = df.fillna(0)\n",
    "data_X = df.drop(columns = ['timestamp', 'class'])\n",
    "data_y = df['class']"
   ]
  },
  {
   "cell_type": "code",
   "execution_count": 22,
   "metadata": {},
   "outputs": [],
   "source": [
    "X_train, X_test, y_train, y_test = train_test_split(data_X, data_y, test_size=0.3)"
   ]
  },
  {
   "cell_type": "code",
   "execution_count": 23,
   "metadata": {},
   "outputs": [
    {
     "data": {
      "text/plain": [
       "KNeighborsClassifier(n_neighbors=7)"
      ]
     },
     "execution_count": 23,
     "metadata": {},
     "output_type": "execute_result"
    }
   ],
   "source": [
    "model = KNeighborsClassifier(n_neighbors=7)\n",
    "model.fit(X_train, y_train)"
   ]
  },
  {
   "cell_type": "code",
   "execution_count": 37,
   "metadata": {},
   "outputs": [
    {
     "name": "stdout",
     "output_type": "stream",
     "text": [
      "              precision    recall  f1-score   support\n",
      "\n",
      "           0       0.98      0.98      0.98       989\n",
      "           1       0.98      0.98      0.98       499\n",
      "           2       0.90      0.80      0.85        65\n",
      "           3       0.98      0.99      0.99      1367\n",
      "\n",
      "    accuracy                           0.98      2920\n",
      "   macro avg       0.96      0.94      0.95      2920\n",
      "weighted avg       0.98      0.98      0.98      2920\n",
      "\n"
     ]
    }
   ],
   "source": [
    "y_hat = model.predict(X_test)\n",
    "\n",
    "print(classification_report(y_test, y_hat))"
   ]
  },
  {
   "cell_type": "code",
   "execution_count": null,
   "metadata": {},
   "outputs": [],
   "source": []
  }
 ],
 "metadata": {
  "interpreter": {
   "hash": "6d0430abbed589119bb7878564fa7798420196d01d1254d0f6d6bd0187648272"
  },
  "kernelspec": {
   "display_name": "Python 3.9.7 ('base')",
   "language": "python",
   "name": "python3"
  },
  "language_info": {
   "codemirror_mode": {
    "name": "ipython",
    "version": 3
   },
   "file_extension": ".py",
   "mimetype": "text/x-python",
   "name": "python",
   "nbconvert_exporter": "python",
   "pygments_lexer": "ipython3",
   "version": "3.9.7"
  },
  "orig_nbformat": 4
 },
 "nbformat": 4,
 "nbformat_minor": 2
}
