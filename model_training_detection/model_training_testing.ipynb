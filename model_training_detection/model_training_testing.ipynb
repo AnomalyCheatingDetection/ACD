{
 "cells": [
  {
   "cell_type": "markdown",
   "metadata": {},
   "source": [
    "# Data Training and Testing"
   ]
  },
  {
   "cell_type": "code",
   "execution_count": 36,
   "metadata": {},
   "outputs": [],
   "source": [
    "import pandas as pd\n",
    "from datetime import datetime\n",
    "import matplotlib.pyplot as plt\n",
    "\n",
    "from sklearn import tree\n",
    "from sklearn.neighbors import KNeighborsClassifier\n",
    "from sklearn.model_selection import train_test_split\n",
    "\n",
    "from tqdm import tqdm\n",
    "\n",
    "from sklearn.metrics import \\\n",
    "    classification_report, \\\n",
    "    plot_confusion_matrix, \\\n",
    "    confusion_matrix, \\\n",
    "    roc_curve, \\\n",
    "    auc"
   ]
  },
  {
   "cell_type": "code",
   "execution_count": 46,
   "metadata": {},
   "outputs": [],
   "source": [
    "def load_data(path) -> pd.DataFrame:\n",
    "    df = pd.read_csv(path)\n",
    "    return df\n",
    "\n",
    "def plot_ROC(y_test, y_pred, plt_config):    \n",
    "        fpr, tpr, threshold = roc_curve(y_test, y_pred)\n",
    "        roc_auc = auc(fpr, tpr)\n",
    "\n",
    "        plt.figure(figsize=plt_config['figsize'])\n",
    "        plt.title('ROC')\n",
    "        plt.plot(fpr, tpr, 'b', label='ROC-AUC = %0.2f' % roc_auc)\n",
    "        plt.plot([0,1], [0,1], 'y--', label='baseline')\n",
    "\n",
    "        plt.ylabel('True Positive Rate')\n",
    "        plt.xlabel('False Positive Rate')\n",
    "        plt.legend(loc='best')\n",
    "        plt.show()\n",
    "\n",
    "def decisionTreeTrain(X_train, y_train, max_depth=10):\n",
    "    clf = tree.DecisionTreeClassifier(max_depth=max_depth)\n",
    "    clf.fit(X_train, y_train)\n",
    "    return clf"
   ]
  },
  {
   "cell_type": "code",
   "execution_count": 47,
   "metadata": {},
   "outputs": [],
   "source": [
    "df = load_data('../csv_data/user_1.csv')"
   ]
  },
  {
   "cell_type": "code",
   "execution_count": 48,
   "metadata": {},
   "outputs": [
    {
     "data": {
      "text/html": [
       "<div>\n",
       "<style scoped>\n",
       "    .dataframe tbody tr th:only-of-type {\n",
       "        vertical-align: middle;\n",
       "    }\n",
       "\n",
       "    .dataframe tbody tr th {\n",
       "        vertical-align: top;\n",
       "    }\n",
       "\n",
       "    .dataframe thead th {\n",
       "        text-align: right;\n",
       "    }\n",
       "</style>\n",
       "<table border=\"1\" class=\"dataframe\">\n",
       "  <thead>\n",
       "    <tr style=\"text-align: right;\">\n",
       "      <th></th>\n",
       "      <th>timestamp</th>\n",
       "      <th>dist_s</th>\n",
       "      <th>angle_s</th>\n",
       "      <th>mean_dist</th>\n",
       "      <th>min_dist</th>\n",
       "      <th>view_dist</th>\n",
       "      <th>average_mouse_speed</th>\n",
       "      <th>useful</th>\n",
       "      <th>useless</th>\n",
       "      <th>aiming</th>\n",
       "      <th>shooting</th>\n",
       "      <th>moving</th>\n",
       "      <th>class</th>\n",
       "    </tr>\n",
       "  </thead>\n",
       "  <tbody>\n",
       "    <tr>\n",
       "      <th>0</th>\n",
       "      <td>2022-04-17 20:58:59</td>\n",
       "      <td>628.0770</td>\n",
       "      <td>230.351000</td>\n",
       "      <td>5764.60</td>\n",
       "      <td>5094.55</td>\n",
       "      <td>74.2955</td>\n",
       "      <td>0</td>\n",
       "      <td>0</td>\n",
       "      <td>1</td>\n",
       "      <td>0</td>\n",
       "      <td>0</td>\n",
       "      <td>0</td>\n",
       "      <td>0</td>\n",
       "    </tr>\n",
       "    <tr>\n",
       "      <th>1</th>\n",
       "      <td>2022-04-17 20:59:00</td>\n",
       "      <td>984.6800</td>\n",
       "      <td>0.000000</td>\n",
       "      <td>NaN</td>\n",
       "      <td>NaN</td>\n",
       "      <td>74.2955</td>\n",
       "      <td>0</td>\n",
       "      <td>0</td>\n",
       "      <td>3</td>\n",
       "      <td>0</td>\n",
       "      <td>0</td>\n",
       "      <td>0</td>\n",
       "      <td>0</td>\n",
       "    </tr>\n",
       "    <tr>\n",
       "      <th>2</th>\n",
       "      <td>2022-04-17 20:59:01</td>\n",
       "      <td>1247.5500</td>\n",
       "      <td>29.783600</td>\n",
       "      <td>5807.95</td>\n",
       "      <td>5296.89</td>\n",
       "      <td>64.6675</td>\n",
       "      <td>0</td>\n",
       "      <td>0</td>\n",
       "      <td>1</td>\n",
       "      <td>0</td>\n",
       "      <td>0</td>\n",
       "      <td>0</td>\n",
       "      <td>0</td>\n",
       "    </tr>\n",
       "    <tr>\n",
       "      <th>3</th>\n",
       "      <td>2022-04-17 20:59:02</td>\n",
       "      <td>1300.7800</td>\n",
       "      <td>28.949400</td>\n",
       "      <td>5955.68</td>\n",
       "      <td>5187.03</td>\n",
       "      <td>81.9060</td>\n",
       "      <td>12</td>\n",
       "      <td>0</td>\n",
       "      <td>0</td>\n",
       "      <td>0</td>\n",
       "      <td>0</td>\n",
       "      <td>0</td>\n",
       "      <td>0</td>\n",
       "    </tr>\n",
       "    <tr>\n",
       "      <th>4</th>\n",
       "      <td>2022-04-17 20:59:03</td>\n",
       "      <td>1363.4500</td>\n",
       "      <td>3.180050</td>\n",
       "      <td>7257.50</td>\n",
       "      <td>7221.94</td>\n",
       "      <td>80.5923</td>\n",
       "      <td>4</td>\n",
       "      <td>0</td>\n",
       "      <td>0</td>\n",
       "      <td>0</td>\n",
       "      <td>0</td>\n",
       "      <td>0</td>\n",
       "      <td>0</td>\n",
       "    </tr>\n",
       "    <tr>\n",
       "      <th>...</th>\n",
       "      <td>...</td>\n",
       "      <td>...</td>\n",
       "      <td>...</td>\n",
       "      <td>...</td>\n",
       "      <td>...</td>\n",
       "      <td>...</td>\n",
       "      <td>...</td>\n",
       "      <td>...</td>\n",
       "      <td>...</td>\n",
       "      <td>...</td>\n",
       "      <td>...</td>\n",
       "      <td>...</td>\n",
       "      <td>...</td>\n",
       "    </tr>\n",
       "    <tr>\n",
       "      <th>2784</th>\n",
       "      <td>2022-04-17 22:16:46</td>\n",
       "      <td>45.3112</td>\n",
       "      <td>0.000000</td>\n",
       "      <td>NaN</td>\n",
       "      <td>NaN</td>\n",
       "      <td>61.8435</td>\n",
       "      <td>0</td>\n",
       "      <td>0</td>\n",
       "      <td>0</td>\n",
       "      <td>0</td>\n",
       "      <td>0</td>\n",
       "      <td>1</td>\n",
       "      <td>0</td>\n",
       "    </tr>\n",
       "    <tr>\n",
       "      <th>2785</th>\n",
       "      <td>2022-04-17 22:16:47</td>\n",
       "      <td>57924.8000</td>\n",
       "      <td>154.334000</td>\n",
       "      <td>NaN</td>\n",
       "      <td>NaN</td>\n",
       "      <td>56.1350</td>\n",
       "      <td>0</td>\n",
       "      <td>3</td>\n",
       "      <td>0</td>\n",
       "      <td>0</td>\n",
       "      <td>0</td>\n",
       "      <td>0</td>\n",
       "      <td>0</td>\n",
       "    </tr>\n",
       "    <tr>\n",
       "      <th>2786</th>\n",
       "      <td>2022-04-17 22:16:48</td>\n",
       "      <td>51.8256</td>\n",
       "      <td>347.849000</td>\n",
       "      <td>NaN</td>\n",
       "      <td>NaN</td>\n",
       "      <td>NaN</td>\n",
       "      <td>0</td>\n",
       "      <td>0</td>\n",
       "      <td>0</td>\n",
       "      <td>0</td>\n",
       "      <td>0</td>\n",
       "      <td>0</td>\n",
       "      <td>0</td>\n",
       "    </tr>\n",
       "    <tr>\n",
       "      <th>2787</th>\n",
       "      <td>2022-04-17 22:16:49</td>\n",
       "      <td>0.0000</td>\n",
       "      <td>0.835723</td>\n",
       "      <td>NaN</td>\n",
       "      <td>NaN</td>\n",
       "      <td>NaN</td>\n",
       "      <td>0</td>\n",
       "      <td>0</td>\n",
       "      <td>1</td>\n",
       "      <td>0</td>\n",
       "      <td>0</td>\n",
       "      <td>0</td>\n",
       "      <td>0</td>\n",
       "    </tr>\n",
       "    <tr>\n",
       "      <th>2788</th>\n",
       "      <td>2022-04-17 22:16:50</td>\n",
       "      <td>0.0000</td>\n",
       "      <td>0.019789</td>\n",
       "      <td>NaN</td>\n",
       "      <td>NaN</td>\n",
       "      <td>NaN</td>\n",
       "      <td>14</td>\n",
       "      <td>0</td>\n",
       "      <td>1</td>\n",
       "      <td>0</td>\n",
       "      <td>0</td>\n",
       "      <td>0</td>\n",
       "      <td>0</td>\n",
       "    </tr>\n",
       "  </tbody>\n",
       "</table>\n",
       "<p>2789 rows × 13 columns</p>\n",
       "</div>"
      ],
      "text/plain": [
       "                timestamp      dist_s     angle_s  mean_dist  min_dist  \\\n",
       "0     2022-04-17 20:58:59    628.0770  230.351000    5764.60   5094.55   \n",
       "1     2022-04-17 20:59:00    984.6800    0.000000        NaN       NaN   \n",
       "2     2022-04-17 20:59:01   1247.5500   29.783600    5807.95   5296.89   \n",
       "3     2022-04-17 20:59:02   1300.7800   28.949400    5955.68   5187.03   \n",
       "4     2022-04-17 20:59:03   1363.4500    3.180050    7257.50   7221.94   \n",
       "...                   ...         ...         ...        ...       ...   \n",
       "2784  2022-04-17 22:16:46     45.3112    0.000000        NaN       NaN   \n",
       "2785  2022-04-17 22:16:47  57924.8000  154.334000        NaN       NaN   \n",
       "2786  2022-04-17 22:16:48     51.8256  347.849000        NaN       NaN   \n",
       "2787  2022-04-17 22:16:49      0.0000    0.835723        NaN       NaN   \n",
       "2788  2022-04-17 22:16:50      0.0000    0.019789        NaN       NaN   \n",
       "\n",
       "      view_dist  average_mouse_speed  useful  useless  aiming  shooting  \\\n",
       "0       74.2955                    0       0        1       0         0   \n",
       "1       74.2955                    0       0        3       0         0   \n",
       "2       64.6675                    0       0        1       0         0   \n",
       "3       81.9060                   12       0        0       0         0   \n",
       "4       80.5923                    4       0        0       0         0   \n",
       "...         ...                  ...     ...      ...     ...       ...   \n",
       "2784    61.8435                    0       0        0       0         0   \n",
       "2785    56.1350                    0       3        0       0         0   \n",
       "2786        NaN                    0       0        0       0         0   \n",
       "2787        NaN                    0       0        1       0         0   \n",
       "2788        NaN                   14       0        1       0         0   \n",
       "\n",
       "      moving  class  \n",
       "0          0      0  \n",
       "1          0      0  \n",
       "2          0      0  \n",
       "3          0      0  \n",
       "4          0      0  \n",
       "...      ...    ...  \n",
       "2784       1      0  \n",
       "2785       0      0  \n",
       "2786       0      0  \n",
       "2787       0      0  \n",
       "2788       0      0  \n",
       "\n",
       "[2789 rows x 13 columns]"
      ]
     },
     "execution_count": 48,
     "metadata": {},
     "output_type": "execute_result"
    }
   ],
   "source": [
    "df"
   ]
  },
  {
   "cell_type": "code",
   "execution_count": 49,
   "metadata": {},
   "outputs": [
    {
     "data": {
      "text/plain": [
       "<AxesSubplot:ylabel='Frequency'>"
      ]
     },
     "execution_count": 49,
     "metadata": {},
     "output_type": "execute_result"
    },
    {
     "data": {
      "image/png": "[encoded data removed]",
      "text/plain": [
       "<Figure size 432x288 with 1 Axes>"
      ]
     },
     "metadata": {
      "needs_background": "light"
     },
     "output_type": "display_data"
    }
   ],
   "source": [
    "df['class'].plot.hist()"
   ]
  },
  {
   "cell_type": "code",
   "execution_count": 50,
   "metadata": {},
   "outputs": [],
   "source": [
    "df = df.fillna(-100)\n",
    "data_X = df.drop(columns = ['timestamp', 'class'])\n",
    "data_y = df['class']"
   ]
  },
  {
   "cell_type": "code",
   "execution_count": 51,
   "metadata": {},
   "outputs": [],
   "source": [
    "X_train, X_test, y_train, y_test = train_test_split(data_X, data_y, test_size=0.3)"
   ]
  },
  {
   "cell_type": "code",
   "execution_count": 52,
   "metadata": {},
   "outputs": [],
   "source": [
    "# model = KNeighborsClassifier(n_neighbors=7)\n",
    "# model.fit(X_train, y_train)\n",
    "model = decisionTreeTrain(X_train, y_train)"
   ]
  },
  {
   "cell_type": "code",
   "execution_count": 53,
   "metadata": {},
   "outputs": [
    {
     "name": "stdout",
     "output_type": "stream",
     "text": [
      "              precision    recall  f1-score   support\n",
      "\n",
      "           0       0.97      0.99      0.98       800\n",
      "           2       0.62      0.41      0.49        37\n",
      "\n",
      "    accuracy                           0.96       837\n",
      "   macro avg       0.80      0.70      0.74       837\n",
      "weighted avg       0.96      0.96      0.96       837\n",
      "\n"
     ]
    }
   ],
   "source": [
    "y_hat = model.predict(X_test)\n",
    "\n",
    "print(classification_report(y_test, y_hat))"
   ]
  },
  {
   "cell_type": "code",
   "execution_count": 54,
   "metadata": {},
   "outputs": [],
   "source": [
    "# try to do binary classification\n",
    "data_X = data_X\n",
    "binary_data_y = data_y.copy()\n",
    "binary_data_y[binary_data_y>0] = 1"
   ]
  },
  {
   "cell_type": "code",
   "execution_count": 55,
   "metadata": {},
   "outputs": [
    {
     "name": "stdout",
     "output_type": "stream",
     "text": [
      "              precision    recall  f1-score   support\n",
      "\n",
      "           0       0.98      0.99      0.98       809\n",
      "           1       0.47      0.29      0.36        28\n",
      "\n",
      "    accuracy                           0.97       837\n",
      "   macro avg       0.72      0.64      0.67       837\n",
      "weighted avg       0.96      0.97      0.96       837\n",
      "\n"
     ]
    }
   ],
   "source": [
    "X_train, X_test, y_train, y_test = train_test_split(data_X, binary_data_y, test_size=0.3)\n",
    "model = KNeighborsClassifier(n_neighbors=5)\n",
    "model.fit(X_train, y_train)\n",
    "y_hat = model.predict(X_test)\n",
    "\n",
    "print(classification_report(y_test, y_hat))"
   ]
  },
  {
   "cell_type": "code",
   "execution_count": 56,
   "metadata": {},
   "outputs": [
    {
     "data": {
      "image/png": "[encoded data removed]",
      "text/plain": [
       "<Figure size 432x288 with 1 Axes>"
      ]
     },
     "metadata": {
      "needs_background": "light"
     },
     "output_type": "display_data"
    }
   ],
   "source": [
    "plt_config = {\n",
    "    'figsize': (6, 4),\n",
    "    # 'model': ad.mode + ' Detection'\n",
    "}\n",
    "\n",
    "plot_ROC(y_test, y_hat, plt_config)"
   ]
  },
  {
   "cell_type": "code",
   "execution_count": null,
   "metadata": {},
   "outputs": [],
   "source": []
  }
 ],
 "metadata": {
  "interpreter": {
   "hash": "6d0430abbed589119bb7878564fa7798420196d01d1254d0f6d6bd0187648272"
  },
  "kernelspec": {
   "display_name": "Python 3.9.7 ('base')",
   "language": "python",
   "name": "python3"
  },
  "language_info": {
   "codemirror_mode": {
    "name": "ipython",
    "version": 3
   },
   "file_extension": ".py",
   "mimetype": "text/x-python",
   "name": "python",
   "nbconvert_exporter": "python",
   "pygments_lexer": "ipython3",
   "version": "3.9.7"
  },
  "orig_nbformat": 4
 },
 "nbformat": 4,
 "nbformat_minor": 2
}
